{
 "cells": [
  {
   "cell_type": "code",
   "execution_count": 1,
   "id": "ca42bebe-c8fa-4f77-8201-b92e7ff55aca",
   "metadata": {},
   "outputs": [],
   "source": [
    "import pandas as pd\n",
    "import numpy as np\n",
    "import matplotlib.pyplot as plt\n",
    "import seaborn as sns\n",
    "\n",
    "import warnings\n",
    "warnings.filterwarnings(\"ignore\")"
   ]
  },
  {
   "cell_type": "code",
   "execution_count": 2,
   "id": "461ae2ac-4210-4f48-bb08-754818d7f79f",
   "metadata": {},
   "outputs": [],
   "source": [
    "df = pd.read_csv(\"CO2 Emissions_Canada.csv\")"
   ]
  },
  {
   "cell_type": "code",
   "execution_count": 3,
   "id": "748b28ce-cbe4-4472-8607-12b44b3905de",
   "metadata": {},
   "outputs": [
    {
     "data": {
      "text/plain": [
       "Index(['Make', 'Model', 'Vehicle Class', 'Engine Size(L)', 'Cylinders',\n",
       "       'Transmission', 'Fuel Type', 'Fuel Consumption City (L/100 km)',\n",
       "       'Fuel Consumption Hwy (L/100 km)', 'Fuel Consumption Comb (L/100 km)',\n",
       "       'Fuel Consumption Comb (mpg)', 'CO2 Emissions(g/km)'],\n",
       "      dtype='object')"
      ]
     },
     "execution_count": 3,
     "metadata": {},
     "output_type": "execute_result"
    }
   ],
   "source": [
    "df.columns"
   ]
  },
  {
   "cell_type": "code",
   "execution_count": 4,
   "id": "f2e61591-e167-4005-b31f-b65d0085c41c",
   "metadata": {},
   "outputs": [
    {
     "data": {
      "text/html": [
       "<div>\n",
       "<style scoped>\n",
       "    .dataframe tbody tr th:only-of-type {\n",
       "        vertical-align: middle;\n",
       "    }\n",
       "\n",
       "    .dataframe tbody tr th {\n",
       "        vertical-align: top;\n",
       "    }\n",
       "\n",
       "    .dataframe thead th {\n",
       "        text-align: right;\n",
       "    }\n",
       "</style>\n",
       "<table border=\"1\" class=\"dataframe\">\n",
       "  <thead>\n",
       "    <tr style=\"text-align: right;\">\n",
       "      <th></th>\n",
       "      <th>Make</th>\n",
       "      <th>Model</th>\n",
       "      <th>Vehicle Class</th>\n",
       "      <th>Engine Size(L)</th>\n",
       "      <th>Cylinders</th>\n",
       "      <th>Transmission</th>\n",
       "      <th>Fuel Type</th>\n",
       "      <th>Fuel Consumption City (L/100 km)</th>\n",
       "      <th>Fuel Consumption Hwy (L/100 km)</th>\n",
       "      <th>Fuel Consumption Comb (L/100 km)</th>\n",
       "      <th>Fuel Consumption Comb (mpg)</th>\n",
       "      <th>CO2 Emissions(g/km)</th>\n",
       "    </tr>\n",
       "  </thead>\n",
       "  <tbody>\n",
       "    <tr>\n",
       "      <th>0</th>\n",
       "      <td>ACURA</td>\n",
       "      <td>ILX</td>\n",
       "      <td>COMPACT</td>\n",
       "      <td>2.0</td>\n",
       "      <td>4</td>\n",
       "      <td>AS5</td>\n",
       "      <td>Z</td>\n",
       "      <td>9.9</td>\n",
       "      <td>6.7</td>\n",
       "      <td>8.5</td>\n",
       "      <td>33</td>\n",
       "      <td>196</td>\n",
       "    </tr>\n",
       "    <tr>\n",
       "      <th>1</th>\n",
       "      <td>ACURA</td>\n",
       "      <td>ILX</td>\n",
       "      <td>COMPACT</td>\n",
       "      <td>2.4</td>\n",
       "      <td>4</td>\n",
       "      <td>M6</td>\n",
       "      <td>Z</td>\n",
       "      <td>11.2</td>\n",
       "      <td>7.7</td>\n",
       "      <td>9.6</td>\n",
       "      <td>29</td>\n",
       "      <td>221</td>\n",
       "    </tr>\n",
       "    <tr>\n",
       "      <th>2</th>\n",
       "      <td>ACURA</td>\n",
       "      <td>ILX HYBRID</td>\n",
       "      <td>COMPACT</td>\n",
       "      <td>1.5</td>\n",
       "      <td>4</td>\n",
       "      <td>AV7</td>\n",
       "      <td>Z</td>\n",
       "      <td>6.0</td>\n",
       "      <td>5.8</td>\n",
       "      <td>5.9</td>\n",
       "      <td>48</td>\n",
       "      <td>136</td>\n",
       "    </tr>\n",
       "    <tr>\n",
       "      <th>3</th>\n",
       "      <td>ACURA</td>\n",
       "      <td>MDX 4WD</td>\n",
       "      <td>SUV - SMALL</td>\n",
       "      <td>3.5</td>\n",
       "      <td>6</td>\n",
       "      <td>AS6</td>\n",
       "      <td>Z</td>\n",
       "      <td>12.7</td>\n",
       "      <td>9.1</td>\n",
       "      <td>11.1</td>\n",
       "      <td>25</td>\n",
       "      <td>255</td>\n",
       "    </tr>\n",
       "    <tr>\n",
       "      <th>4</th>\n",
       "      <td>ACURA</td>\n",
       "      <td>RDX AWD</td>\n",
       "      <td>SUV - SMALL</td>\n",
       "      <td>3.5</td>\n",
       "      <td>6</td>\n",
       "      <td>AS6</td>\n",
       "      <td>Z</td>\n",
       "      <td>12.1</td>\n",
       "      <td>8.7</td>\n",
       "      <td>10.6</td>\n",
       "      <td>27</td>\n",
       "      <td>244</td>\n",
       "    </tr>\n",
       "  </tbody>\n",
       "</table>\n",
       "</div>"
      ],
      "text/plain": [
       "    Make       Model Vehicle Class  Engine Size(L)  Cylinders Transmission  \\\n",
       "0  ACURA         ILX       COMPACT             2.0          4          AS5   \n",
       "1  ACURA         ILX       COMPACT             2.4          4           M6   \n",
       "2  ACURA  ILX HYBRID       COMPACT             1.5          4          AV7   \n",
       "3  ACURA     MDX 4WD   SUV - SMALL             3.5          6          AS6   \n",
       "4  ACURA     RDX AWD   SUV - SMALL             3.5          6          AS6   \n",
       "\n",
       "  Fuel Type  Fuel Consumption City (L/100 km)  \\\n",
       "0         Z                               9.9   \n",
       "1         Z                              11.2   \n",
       "2         Z                               6.0   \n",
       "3         Z                              12.7   \n",
       "4         Z                              12.1   \n",
       "\n",
       "   Fuel Consumption Hwy (L/100 km)  Fuel Consumption Comb (L/100 km)  \\\n",
       "0                              6.7                               8.5   \n",
       "1                              7.7                               9.6   \n",
       "2                              5.8                               5.9   \n",
       "3                              9.1                              11.1   \n",
       "4                              8.7                              10.6   \n",
       "\n",
       "   Fuel Consumption Comb (mpg)  CO2 Emissions(g/km)  \n",
       "0                           33                  196  \n",
       "1                           29                  221  \n",
       "2                           48                  136  \n",
       "3                           25                  255  \n",
       "4                           27                  244  "
      ]
     },
     "execution_count": 4,
     "metadata": {},
     "output_type": "execute_result"
    }
   ],
   "source": [
    "df.head()"
   ]
  },
  {
   "cell_type": "code",
   "execution_count": 5,
   "id": "d73b3df3-a268-4e3f-8e24-558fdecbf83c",
   "metadata": {},
   "outputs": [
    {
     "data": {
      "text/plain": [
       "(7385, 12)"
      ]
     },
     "execution_count": 5,
     "metadata": {},
     "output_type": "execute_result"
    }
   ],
   "source": [
    "df.shape"
   ]
  },
  {
   "cell_type": "code",
   "execution_count": 6,
   "id": "30e4020c-1560-4f45-a227-09069d97bfdf",
   "metadata": {},
   "outputs": [
    {
     "data": {
      "text/plain": [
       "array(['ACURA', 'ALFA ROMEO', 'ASTON MARTIN', 'AUDI', 'BENTLEY', 'BMW',\n",
       "       'BUICK', 'CADILLAC', 'CHEVROLET', 'CHRYSLER', 'DODGE', 'FIAT',\n",
       "       'FORD', 'GMC', 'HONDA', 'HYUNDAI', 'INFINITI', 'JAGUAR', 'JEEP',\n",
       "       'KIA', 'LAMBORGHINI', 'LAND ROVER', 'LEXUS', 'LINCOLN', 'MASERATI',\n",
       "       'MAZDA', 'MERCEDES-BENZ', 'MINI', 'MITSUBISHI', 'NISSAN',\n",
       "       'PORSCHE', 'RAM', 'ROLLS-ROYCE', 'SCION', 'SMART', 'SRT', 'SUBARU',\n",
       "       'TOYOTA', 'VOLKSWAGEN', 'VOLVO', 'GENESIS', 'BUGATTI'],\n",
       "      dtype=object)"
      ]
     },
     "execution_count": 6,
     "metadata": {},
     "output_type": "execute_result"
    }
   ],
   "source": [
    "df.Make.unique()"
   ]
  },
  {
   "cell_type": "code",
   "execution_count": 7,
   "id": "5a1f4e1b-3862-453a-8157-9d4b7cdc1c61",
   "metadata": {},
   "outputs": [
    {
     "data": {
      "text/plain": [
       "array(['COMPACT', 'SUV - SMALL', 'MID-SIZE', 'TWO-SEATER', 'MINICOMPACT',\n",
       "       'SUBCOMPACT', 'FULL-SIZE', 'STATION WAGON - SMALL',\n",
       "       'SUV - STANDARD', 'VAN - CARGO', 'VAN - PASSENGER',\n",
       "       'PICKUP TRUCK - STANDARD', 'MINIVAN', 'SPECIAL PURPOSE VEHICLE',\n",
       "       'STATION WAGON - MID-SIZE', 'PICKUP TRUCK - SMALL'], dtype=object)"
      ]
     },
     "execution_count": 7,
     "metadata": {},
     "output_type": "execute_result"
    }
   ],
   "source": [
    "df[\"Vehicle Class\"].unique()"
   ]
  },
  {
   "cell_type": "code",
   "execution_count": 8,
   "id": "2534a89f-ba98-43b5-8734-08692f746f39",
   "metadata": {},
   "outputs": [
    {
     "data": {
      "text/plain": [
       "array(['AS5', 'M6', 'AV7', 'AS6', 'AM6', 'A6', 'AM7', 'AV8', 'AS8', 'A7',\n",
       "       'A8', 'M7', 'A4', 'M5', 'AV', 'A5', 'AS7', 'A9', 'AS9', 'AV6',\n",
       "       'AS4', 'AM5', 'AM8', 'AM9', 'AS10', 'A10', 'AV10'], dtype=object)"
      ]
     },
     "execution_count": 8,
     "metadata": {},
     "output_type": "execute_result"
    }
   ],
   "source": [
    "df.Transmission.unique()"
   ]
  },
  {
   "cell_type": "code",
   "execution_count": 9,
   "id": "2e6e3f9d-e203-47e0-8294-4ce1f069ed8f",
   "metadata": {},
   "outputs": [
    {
     "data": {
      "text/plain": [
       "array(['Z', 'D', 'X', 'E', 'N'], dtype=object)"
      ]
     },
     "execution_count": 9,
     "metadata": {},
     "output_type": "execute_result"
    }
   ],
   "source": [
    "df[\"Fuel Type\"].unique()"
   ]
  },
  {
   "cell_type": "code",
   "execution_count": 10,
   "id": "5ab0910d-0f7c-4a33-adef-981dcc6db322",
   "metadata": {},
   "outputs": [
    {
     "data": {
      "text/plain": [
       "1103"
      ]
     },
     "execution_count": 10,
     "metadata": {},
     "output_type": "execute_result"
    }
   ],
   "source": [
    "df.duplicated().sum()"
   ]
  },
  {
   "cell_type": "code",
   "execution_count": 11,
   "id": "9b5749e7-931f-43db-a3b3-6e4a1d784f37",
   "metadata": {},
   "outputs": [
    {
     "data": {
      "text/plain": [
       "(6282, 12)"
      ]
     },
     "execution_count": 11,
     "metadata": {},
     "output_type": "execute_result"
    }
   ],
   "source": [
    "df = df.drop_duplicates()\n",
    "df.shape"
   ]
  },
  {
   "cell_type": "code",
   "execution_count": 12,
   "id": "6f78a48d-cf58-4833-a151-8f6654719690",
   "metadata": {},
   "outputs": [
    {
     "name": "stdout",
     "output_type": "stream",
     "text": [
      "<class 'pandas.core.frame.DataFrame'>\n",
      "Int64Index: 6282 entries, 0 to 7384\n",
      "Data columns (total 12 columns):\n",
      " #   Column                            Non-Null Count  Dtype  \n",
      "---  ------                            --------------  -----  \n",
      " 0   Make                              6282 non-null   object \n",
      " 1   Model                             6282 non-null   object \n",
      " 2   Vehicle Class                     6282 non-null   object \n",
      " 3   Engine Size(L)                    6282 non-null   float64\n",
      " 4   Cylinders                         6282 non-null   int64  \n",
      " 5   Transmission                      6282 non-null   object \n",
      " 6   Fuel Type                         6282 non-null   object \n",
      " 7   Fuel Consumption City (L/100 km)  6282 non-null   float64\n",
      " 8   Fuel Consumption Hwy (L/100 km)   6282 non-null   float64\n",
      " 9   Fuel Consumption Comb (L/100 km)  6282 non-null   float64\n",
      " 10  Fuel Consumption Comb (mpg)       6282 non-null   int64  \n",
      " 11  CO2 Emissions(g/km)               6282 non-null   int64  \n",
      "dtypes: float64(4), int64(3), object(5)\n",
      "memory usage: 638.0+ KB\n"
     ]
    }
   ],
   "source": [
    "df.info()"
   ]
  },
  {
   "cell_type": "code",
   "execution_count": 13,
   "id": "bce687d0-d29c-4502-a15f-a78fcda6ccc5",
   "metadata": {},
   "outputs": [
    {
     "data": {
      "text/plain": [
       "Make                                0\n",
       "Model                               0\n",
       "Vehicle Class                       0\n",
       "Engine Size(L)                      0\n",
       "Cylinders                           0\n",
       "Transmission                        0\n",
       "Fuel Type                           0\n",
       "Fuel Consumption City (L/100 km)    0\n",
       "Fuel Consumption Hwy (L/100 km)     0\n",
       "Fuel Consumption Comb (L/100 km)    0\n",
       "Fuel Consumption Comb (mpg)         0\n",
       "CO2 Emissions(g/km)                 0\n",
       "dtype: int64"
      ]
     },
     "execution_count": 13,
     "metadata": {},
     "output_type": "execute_result"
    }
   ],
   "source": [
    "df.isnull().sum()"
   ]
  },
  {
   "cell_type": "code",
   "execution_count": 14,
   "id": "25e9f475-7154-44f0-9b47-52f1c12007ec",
   "metadata": {},
   "outputs": [],
   "source": [
    "def explore_cat_feature(feature):\n",
    "    group = df.groupby(feature).mean()\n",
    "    plt.figure(figsize= [15, 5])\n",
    "    plots = group[\"CO2 Emissions(g/km)\"].sort_values().plot(kind = \"bar\", fontsize = 15)\n",
    "    plt.xlabel(feature, fontsize = 15);\n",
    "    plt.ylabel(\"Mean Co2 Emission\", fontsize = 15);\n",
    "    plt.title(\"Mean Co2 Emission according to {} feature\\n\".format(feature), fontsize = 20)#titlea değişken atadık feature-n ile."
   ]
  },
  {
   "cell_type": "code",
   "execution_count": 15,
   "id": "96676625-bcdc-4177-97f0-7176edb756a3",
   "metadata": {},
   "outputs": [
    {
     "data": {
      "image/png": "[encoded data removed]",
      "text/plain": [
       "<Figure size 1080x360 with 1 Axes>"
      ]
     },
     "metadata": {
      "needs_background": "light"
     },
     "output_type": "display_data"
    },
    {
     "data": {
      "image/png": "[encoded data removed]",
      "text/plain": [
       "<Figure size 1080x360 with 1 Axes>"
      ]
     },
     "metadata": {
      "needs_background": "light"
     },
     "output_type": "display_data"
    },
    {
     "data": {
      "image/png": "[encoded data removed]",
      "text/plain": [
       "<Figure size 1080x360 with 1 Axes>"
      ]
     },
     "metadata": {
      "needs_background": "light"
     },
     "output_type": "display_data"
    },
    {
     "data": {
      "image/png": "[encoded data removed]",
      "text/plain": [
       "<Figure size 1080x360 with 1 Axes>"
      ]
     },
     "metadata": {
      "needs_background": "light"
     },
     "output_type": "display_data"
    },
    {
     "data": {
      "image/png": "[encoded data removed]",
      "text/plain": [
       "<Figure size 1080x360 with 1 Axes>"
      ]
     },
     "metadata": {
      "needs_background": "light"
     },
     "output_type": "display_data"
    },
    {
     "data": {
      "image/png": "[encoded data removed]",
      "text/plain": [
       "<Figure size 1080x360 with 1 Axes>"
      ]
     },
     "metadata": {
      "needs_background": "light"
     },
     "output_type": "display_data"
    }
   ],
   "source": [
    "for feature in [\"Make\", \"Vehicle Class\", \"Engine Size(L)\", \"Cylinders\", \"Transmission\", \"Fuel Type\"]:\n",
    "    explore_cat_feature(feature)"
   ]
  },
  {
   "cell_type": "code",
   "execution_count": 16,
   "id": "3967d780-4890-4c9b-8d5b-fbcce5515bdb",
   "metadata": {},
   "outputs": [
    {
     "data": {
      "text/plain": [
       "F-150 FFV             32\n",
       "F-150 FFV 4X4         31\n",
       "MUSTANG               27\n",
       "FOCUS FFV             24\n",
       "F-150 4X4             20\n",
       "                      ..\n",
       "LS 500                 1\n",
       "LS 500h                1\n",
       "NX 300 AWD F SPORT     1\n",
       "RX 350 L AWD           1\n",
       "XC40 T4 AWD            1\n",
       "Name: Model, Length: 2053, dtype: int64"
      ]
     },
     "execution_count": 16,
     "metadata": {},
     "output_type": "execute_result"
    }
   ],
   "source": [
    "df[\"Model\"].value_counts()"
   ]
  },
  {
   "cell_type": "code",
   "execution_count": 17,
   "id": "8ff14d7c-0dac-4253-abde-4282cebf06a1",
   "metadata": {},
   "outputs": [],
   "source": [
    "def explore_num_feature(feature):\n",
    "    plt.figure(figsize = [15, 5])\n",
    "    plt.scatter(df[feature], df[\"CO2 Emissions(g/km)\"])\n",
    "    plt.xlabel(feature, fontsize = 15);\n",
    "    plt.ylabel(\"Co2 Emission\", fontsize= 15)\n",
    "    plt.title(\"Co2 Emission vs. {} \\n\".format(feature), fontsize = 20)"
   ]
  },
  {
   "cell_type": "code",
   "execution_count": 18,
   "id": "0b473553-3092-4442-beda-5da50299d12b",
   "metadata": {},
   "outputs": [
    {
     "data": {
      "image/png": "[encoded data removed]",
      "text/plain": [
       "<Figure size 1080x360 with 1 Axes>"
      ]
     },
     "metadata": {
      "needs_background": "light"
     },
     "output_type": "display_data"
    },
    {
     "data": {
      "image/png": "[encoded data removed]",
      "text/plain": [
       "<Figure size 1080x360 with 1 Axes>"
      ]
     },
     "metadata": {
      "needs_background": "light"
     },
     "output_type": "display_data"
    },
    {
     "data": {
      "image/png": "[encoded data removed]",
      "text/plain": [
       "<Figure size 1080x360 with 1 Axes>"
      ]
     },
     "metadata": {
      "needs_background": "light"
     },
     "output_type": "display_data"
    },
    {
     "data": {
      "image/png": "[encoded data removed]",
      "text/plain": [
       "<Figure size 1080x360 with 1 Axes>"
      ]
     },
     "metadata": {
      "needs_background": "light"
     },
     "output_type": "display_data"
    }
   ],
   "source": [
    "for feature in ['Fuel Consumption City (L/100 km)', 'Fuel Consumption Hwy (L/100 km)', \n",
    "                'Fuel Consumption Comb (L/100 km)', 'Fuel Consumption Comb (mpg)']:\n",
    "    explore_num_feature(feature)"
   ]
  },
  {
   "cell_type": "code",
   "execution_count": 19,
   "id": "478eda07-2658-428a-9d94-3a9782a31a43",
   "metadata": {},
   "outputs": [
    {
     "data": {
      "text/html": [
       "<div>\n",
       "<style scoped>\n",
       "    .dataframe tbody tr th:only-of-type {\n",
       "        vertical-align: middle;\n",
       "    }\n",
       "\n",
       "    .dataframe tbody tr th {\n",
       "        vertical-align: top;\n",
       "    }\n",
       "\n",
       "    .dataframe thead th {\n",
       "        text-align: right;\n",
       "    }\n",
       "</style>\n",
       "<table border=\"1\" class=\"dataframe\">\n",
       "  <thead>\n",
       "    <tr style=\"text-align: right;\">\n",
       "      <th></th>\n",
       "      <th>Engine Size(L)</th>\n",
       "      <th>Cylinders</th>\n",
       "      <th>Fuel Consumption City (L/100 km)</th>\n",
       "      <th>Fuel Consumption Hwy (L/100 km)</th>\n",
       "      <th>Fuel Consumption Comb (L/100 km)</th>\n",
       "      <th>Fuel Consumption Comb (mpg)</th>\n",
       "      <th>CO2 Emissions(g/km)</th>\n",
       "    </tr>\n",
       "  </thead>\n",
       "  <tbody>\n",
       "    <tr>\n",
       "      <th>Engine Size(L)</th>\n",
       "      <td>1.000000</td>\n",
       "      <td>0.928843</td>\n",
       "      <td>0.834228</td>\n",
       "      <td>0.766817</td>\n",
       "      <td>0.820146</td>\n",
       "      <td>-0.762955</td>\n",
       "      <td>0.854802</td>\n",
       "    </tr>\n",
       "    <tr>\n",
       "      <th>Cylinders</th>\n",
       "      <td>0.928843</td>\n",
       "      <td>1.000000</td>\n",
       "      <td>0.801277</td>\n",
       "      <td>0.717647</td>\n",
       "      <td>0.781099</td>\n",
       "      <td>-0.723731</td>\n",
       "      <td>0.834687</td>\n",
       "    </tr>\n",
       "    <tr>\n",
       "      <th>Fuel Consumption City (L/100 km)</th>\n",
       "      <td>0.834228</td>\n",
       "      <td>0.801277</td>\n",
       "      <td>1.000000</td>\n",
       "      <td>0.950811</td>\n",
       "      <td>0.994052</td>\n",
       "      <td>-0.927640</td>\n",
       "      <td>0.918756</td>\n",
       "    </tr>\n",
       "    <tr>\n",
       "      <th>Fuel Consumption Hwy (L/100 km)</th>\n",
       "      <td>0.766817</td>\n",
       "      <td>0.717647</td>\n",
       "      <td>0.950811</td>\n",
       "      <td>1.000000</td>\n",
       "      <td>0.978607</td>\n",
       "      <td>-0.891892</td>\n",
       "      <td>0.883424</td>\n",
       "    </tr>\n",
       "    <tr>\n",
       "      <th>Fuel Consumption Comb (L/100 km)</th>\n",
       "      <td>0.820146</td>\n",
       "      <td>0.781099</td>\n",
       "      <td>0.994052</td>\n",
       "      <td>0.978607</td>\n",
       "      <td>1.000000</td>\n",
       "      <td>-0.925801</td>\n",
       "      <td>0.916840</td>\n",
       "    </tr>\n",
       "    <tr>\n",
       "      <th>Fuel Consumption Comb (mpg)</th>\n",
       "      <td>-0.762955</td>\n",
       "      <td>-0.723731</td>\n",
       "      <td>-0.927640</td>\n",
       "      <td>-0.891892</td>\n",
       "      <td>-0.925801</td>\n",
       "      <td>1.000000</td>\n",
       "      <td>-0.906783</td>\n",
       "    </tr>\n",
       "    <tr>\n",
       "      <th>CO2 Emissions(g/km)</th>\n",
       "      <td>0.854802</td>\n",
       "      <td>0.834687</td>\n",
       "      <td>0.918756</td>\n",
       "      <td>0.883424</td>\n",
       "      <td>0.916840</td>\n",
       "      <td>-0.906783</td>\n",
       "      <td>1.000000</td>\n",
       "    </tr>\n",
       "  </tbody>\n",
       "</table>\n",
       "</div>"
      ],
      "text/plain": [
       "                                  Engine Size(L)  Cylinders  \\\n",
       "Engine Size(L)                          1.000000   0.928843   \n",
       "Cylinders                               0.928843   1.000000   \n",
       "Fuel Consumption City (L/100 km)        0.834228   0.801277   \n",
       "Fuel Consumption Hwy (L/100 km)         0.766817   0.717647   \n",
       "Fuel Consumption Comb (L/100 km)        0.820146   0.781099   \n",
       "Fuel Consumption Comb (mpg)            -0.762955  -0.723731   \n",
       "CO2 Emissions(g/km)                     0.854802   0.834687   \n",
       "\n",
       "                                  Fuel Consumption City (L/100 km)  \\\n",
       "Engine Size(L)                                            0.834228   \n",
       "Cylinders                                                 0.801277   \n",
       "Fuel Consumption City (L/100 km)                          1.000000   \n",
       "Fuel Consumption Hwy (L/100 km)                           0.950811   \n",
       "Fuel Consumption Comb (L/100 km)                          0.994052   \n",
       "Fuel Consumption Comb (mpg)                              -0.927640   \n",
       "CO2 Emissions(g/km)                                       0.918756   \n",
       "\n",
       "                                  Fuel Consumption Hwy (L/100 km)  \\\n",
       "Engine Size(L)                                           0.766817   \n",
       "Cylinders                                                0.717647   \n",
       "Fuel Consumption City (L/100 km)                         0.950811   \n",
       "Fuel Consumption Hwy (L/100 km)                          1.000000   \n",
       "Fuel Consumption Comb (L/100 km)                         0.978607   \n",
       "Fuel Consumption Comb (mpg)                             -0.891892   \n",
       "CO2 Emissions(g/km)                                      0.883424   \n",
       "\n",
       "                                  Fuel Consumption Comb (L/100 km)  \\\n",
       "Engine Size(L)                                            0.820146   \n",
       "Cylinders                                                 0.781099   \n",
       "Fuel Consumption City (L/100 km)                          0.994052   \n",
       "Fuel Consumption Hwy (L/100 km)                           0.978607   \n",
       "Fuel Consumption Comb (L/100 km)                          1.000000   \n",
       "Fuel Consumption Comb (mpg)                              -0.925801   \n",
       "CO2 Emissions(g/km)                                       0.916840   \n",
       "\n",
       "                                  Fuel Consumption Comb (mpg)  \\\n",
       "Engine Size(L)                                      -0.762955   \n",
       "Cylinders                                           -0.723731   \n",
       "Fuel Consumption City (L/100 km)                    -0.927640   \n",
       "Fuel Consumption Hwy (L/100 km)                     -0.891892   \n",
       "Fuel Consumption Comb (L/100 km)                    -0.925801   \n",
       "Fuel Consumption Comb (mpg)                          1.000000   \n",
       "CO2 Emissions(g/km)                                 -0.906783   \n",
       "\n",
       "                                  CO2 Emissions(g/km)  \n",
       "Engine Size(L)                               0.854802  \n",
       "Cylinders                                    0.834687  \n",
       "Fuel Consumption City (L/100 km)             0.918756  \n",
       "Fuel Consumption Hwy (L/100 km)              0.883424  \n",
       "Fuel Consumption Comb (L/100 km)             0.916840  \n",
       "Fuel Consumption Comb (mpg)                 -0.906783  \n",
       "CO2 Emissions(g/km)                          1.000000  "
      ]
     },
     "execution_count": 19,
     "metadata": {},
     "output_type": "execute_result"
    }
   ],
   "source": [
    "df.corr()"
   ]
  },
  {
   "cell_type": "code",
   "execution_count": 20,
   "id": "9a5d658f-faf1-4b72-847c-7d366da957b7",
   "metadata": {},
   "outputs": [
    {
     "data": {
      "text/plain": [
       "Index(['Make', 'Model', 'Vehicle Class', 'Engine Size(L)', 'Cylinders',\n",
       "       'Transmission', 'Fuel Type', 'Fuel Consumption City (L/100 km)',\n",
       "       'Fuel Consumption Hwy (L/100 km)', 'Fuel Consumption Comb (L/100 km)',\n",
       "       'Fuel Consumption Comb (mpg)', 'CO2 Emissions(g/km)'],\n",
       "      dtype='object')"
      ]
     },
     "execution_count": 20,
     "metadata": {},
     "output_type": "execute_result"
    }
   ],
   "source": [
    "df.columns"
   ]
  },
  {
   "cell_type": "code",
   "execution_count": 21,
   "id": "bd5d55de-5ec8-46ee-8343-560c24813a0f",
   "metadata": {},
   "outputs": [
    {
     "data": {
      "text/html": [
       "<div>\n",
       "<style scoped>\n",
       "    .dataframe tbody tr th:only-of-type {\n",
       "        vertical-align: middle;\n",
       "    }\n",
       "\n",
       "    .dataframe tbody tr th {\n",
       "        vertical-align: top;\n",
       "    }\n",
       "\n",
       "    .dataframe thead th {\n",
       "        text-align: right;\n",
       "    }\n",
       "</style>\n",
       "<table border=\"1\" class=\"dataframe\">\n",
       "  <thead>\n",
       "    <tr style=\"text-align: right;\">\n",
       "      <th></th>\n",
       "      <th>Make</th>\n",
       "      <th>Model</th>\n",
       "      <th>Vehicle Class</th>\n",
       "      <th>Engine Size(L)</th>\n",
       "      <th>Cylinders</th>\n",
       "      <th>Transmission</th>\n",
       "      <th>Fuel Type</th>\n",
       "      <th>Fuel Consumption City (L/100 km)</th>\n",
       "      <th>Fuel Consumption Hwy (L/100 km)</th>\n",
       "      <th>Fuel Consumption Comb (L/100 km)</th>\n",
       "      <th>Fuel Consumption Comb (mpg)</th>\n",
       "      <th>CO2 Emissions(g/km)</th>\n",
       "    </tr>\n",
       "  </thead>\n",
       "  <tbody>\n",
       "    <tr>\n",
       "      <th>0</th>\n",
       "      <td>ACURA</td>\n",
       "      <td>ILX</td>\n",
       "      <td>COMPACT</td>\n",
       "      <td>2.0</td>\n",
       "      <td>4</td>\n",
       "      <td>AS5</td>\n",
       "      <td>Z</td>\n",
       "      <td>9.9</td>\n",
       "      <td>6.7</td>\n",
       "      <td>8.5</td>\n",
       "      <td>33</td>\n",
       "      <td>196</td>\n",
       "    </tr>\n",
       "    <tr>\n",
       "      <th>1</th>\n",
       "      <td>ACURA</td>\n",
       "      <td>ILX</td>\n",
       "      <td>COMPACT</td>\n",
       "      <td>2.4</td>\n",
       "      <td>4</td>\n",
       "      <td>M6</td>\n",
       "      <td>Z</td>\n",
       "      <td>11.2</td>\n",
       "      <td>7.7</td>\n",
       "      <td>9.6</td>\n",
       "      <td>29</td>\n",
       "      <td>221</td>\n",
       "    </tr>\n",
       "    <tr>\n",
       "      <th>2</th>\n",
       "      <td>ACURA</td>\n",
       "      <td>ILX HYBRID</td>\n",
       "      <td>COMPACT</td>\n",
       "      <td>1.5</td>\n",
       "      <td>4</td>\n",
       "      <td>AV7</td>\n",
       "      <td>Z</td>\n",
       "      <td>6.0</td>\n",
       "      <td>5.8</td>\n",
       "      <td>5.9</td>\n",
       "      <td>48</td>\n",
       "      <td>136</td>\n",
       "    </tr>\n",
       "    <tr>\n",
       "      <th>3</th>\n",
       "      <td>ACURA</td>\n",
       "      <td>MDX 4WD</td>\n",
       "      <td>SUV - SMALL</td>\n",
       "      <td>3.5</td>\n",
       "      <td>6</td>\n",
       "      <td>AS6</td>\n",
       "      <td>Z</td>\n",
       "      <td>12.7</td>\n",
       "      <td>9.1</td>\n",
       "      <td>11.1</td>\n",
       "      <td>25</td>\n",
       "      <td>255</td>\n",
       "    </tr>\n",
       "    <tr>\n",
       "      <th>4</th>\n",
       "      <td>ACURA</td>\n",
       "      <td>RDX AWD</td>\n",
       "      <td>SUV - SMALL</td>\n",
       "      <td>3.5</td>\n",
       "      <td>6</td>\n",
       "      <td>AS6</td>\n",
       "      <td>Z</td>\n",
       "      <td>12.1</td>\n",
       "      <td>8.7</td>\n",
       "      <td>10.6</td>\n",
       "      <td>27</td>\n",
       "      <td>244</td>\n",
       "    </tr>\n",
       "  </tbody>\n",
       "</table>\n",
       "</div>"
      ],
      "text/plain": [
       "    Make       Model Vehicle Class  Engine Size(L)  Cylinders Transmission  \\\n",
       "0  ACURA         ILX       COMPACT             2.0          4          AS5   \n",
       "1  ACURA         ILX       COMPACT             2.4          4           M6   \n",
       "2  ACURA  ILX HYBRID       COMPACT             1.5          4          AV7   \n",
       "3  ACURA     MDX 4WD   SUV - SMALL             3.5          6          AS6   \n",
       "4  ACURA     RDX AWD   SUV - SMALL             3.5          6          AS6   \n",
       "\n",
       "  Fuel Type  Fuel Consumption City (L/100 km)  \\\n",
       "0         Z                               9.9   \n",
       "1         Z                              11.2   \n",
       "2         Z                               6.0   \n",
       "3         Z                              12.7   \n",
       "4         Z                              12.1   \n",
       "\n",
       "   Fuel Consumption Hwy (L/100 km)  Fuel Consumption Comb (L/100 km)  \\\n",
       "0                              6.7                               8.5   \n",
       "1                              7.7                               9.6   \n",
       "2                              5.8                               5.9   \n",
       "3                              9.1                              11.1   \n",
       "4                              8.7                              10.6   \n",
       "\n",
       "   Fuel Consumption Comb (mpg)  CO2 Emissions(g/km)  \n",
       "0                           33                  196  \n",
       "1                           29                  221  \n",
       "2                           48                  136  \n",
       "3                           25                  255  \n",
       "4                           27                  244  "
      ]
     },
     "execution_count": 21,
     "metadata": {},
     "output_type": "execute_result"
    }
   ],
   "source": [
    "df.head()"
   ]
  },
  {
   "cell_type": "code",
   "execution_count": 22,
   "id": "a79ced83-13d4-4655-a8b4-1721c07e680f",
   "metadata": {},
   "outputs": [
    {
     "data": {
      "text/html": [
       "<div>\n",
       "<style scoped>\n",
       "    .dataframe tbody tr th:only-of-type {\n",
       "        vertical-align: middle;\n",
       "    }\n",
       "\n",
       "    .dataframe tbody tr th {\n",
       "        vertical-align: top;\n",
       "    }\n",
       "\n",
       "    .dataframe thead th {\n",
       "        text-align: right;\n",
       "    }\n",
       "</style>\n",
       "<table border=\"1\" class=\"dataframe\">\n",
       "  <thead>\n",
       "    <tr style=\"text-align: right;\">\n",
       "      <th></th>\n",
       "      <th>Engine Size(L)</th>\n",
       "      <th>Cylinders</th>\n",
       "      <th>Transmission</th>\n",
       "      <th>Fuel Type</th>\n",
       "      <th>Fuel Consumption City (L/100 km)</th>\n",
       "      <th>Fuel Consumption Hwy (L/100 km)</th>\n",
       "      <th>Fuel Consumption Comb (L/100 km)</th>\n",
       "      <th>Fuel Consumption Comb (mpg)</th>\n",
       "      <th>CO2 Emissions(g/km)</th>\n",
       "    </tr>\n",
       "  </thead>\n",
       "  <tbody>\n",
       "    <tr>\n",
       "      <th>0</th>\n",
       "      <td>2.0</td>\n",
       "      <td>4</td>\n",
       "      <td>AS5</td>\n",
       "      <td>Z</td>\n",
       "      <td>9.9</td>\n",
       "      <td>6.7</td>\n",
       "      <td>8.5</td>\n",
       "      <td>33</td>\n",
       "      <td>196</td>\n",
       "    </tr>\n",
       "    <tr>\n",
       "      <th>1</th>\n",
       "      <td>2.4</td>\n",
       "      <td>4</td>\n",
       "      <td>M6</td>\n",
       "      <td>Z</td>\n",
       "      <td>11.2</td>\n",
       "      <td>7.7</td>\n",
       "      <td>9.6</td>\n",
       "      <td>29</td>\n",
       "      <td>221</td>\n",
       "    </tr>\n",
       "    <tr>\n",
       "      <th>2</th>\n",
       "      <td>1.5</td>\n",
       "      <td>4</td>\n",
       "      <td>AV7</td>\n",
       "      <td>Z</td>\n",
       "      <td>6.0</td>\n",
       "      <td>5.8</td>\n",
       "      <td>5.9</td>\n",
       "      <td>48</td>\n",
       "      <td>136</td>\n",
       "    </tr>\n",
       "    <tr>\n",
       "      <th>3</th>\n",
       "      <td>3.5</td>\n",
       "      <td>6</td>\n",
       "      <td>AS6</td>\n",
       "      <td>Z</td>\n",
       "      <td>12.7</td>\n",
       "      <td>9.1</td>\n",
       "      <td>11.1</td>\n",
       "      <td>25</td>\n",
       "      <td>255</td>\n",
       "    </tr>\n",
       "    <tr>\n",
       "      <th>4</th>\n",
       "      <td>3.5</td>\n",
       "      <td>6</td>\n",
       "      <td>AS6</td>\n",
       "      <td>Z</td>\n",
       "      <td>12.1</td>\n",
       "      <td>8.7</td>\n",
       "      <td>10.6</td>\n",
       "      <td>27</td>\n",
       "      <td>244</td>\n",
       "    </tr>\n",
       "  </tbody>\n",
       "</table>\n",
       "</div>"
      ],
      "text/plain": [
       "   Engine Size(L)  Cylinders Transmission Fuel Type  \\\n",
       "0             2.0          4          AS5         Z   \n",
       "1             2.4          4           M6         Z   \n",
       "2             1.5          4          AV7         Z   \n",
       "3             3.5          6          AS6         Z   \n",
       "4             3.5          6          AS6         Z   \n",
       "\n",
       "   Fuel Consumption City (L/100 km)  Fuel Consumption Hwy (L/100 km)  \\\n",
       "0                               9.9                              6.7   \n",
       "1                              11.2                              7.7   \n",
       "2                               6.0                              5.8   \n",
       "3                              12.7                              9.1   \n",
       "4                              12.1                              8.7   \n",
       "\n",
       "   Fuel Consumption Comb (L/100 km)  Fuel Consumption Comb (mpg)  \\\n",
       "0                               8.5                           33   \n",
       "1                               9.6                           29   \n",
       "2                               5.9                           48   \n",
       "3                              11.1                           25   \n",
       "4                              10.6                           27   \n",
       "\n",
       "   CO2 Emissions(g/km)  \n",
       "0                  196  \n",
       "1                  221  \n",
       "2                  136  \n",
       "3                  255  \n",
       "4                  244  "
      ]
     },
     "execution_count": 22,
     "metadata": {},
     "output_type": "execute_result"
    }
   ],
   "source": [
    "df = df.drop(columns= [\"Make\", \"Model\", \"Vehicle Class\"], axis= 1)#bunlara dummy atasak çok kalabalıklar,feature enflasyonu olucak-300 üzeri oluyormuş hepsine dummy ile rakam atasak.zaten etkili değil,model değil silindir önemli mesela.\n",
    "df.head()#yani overfit eder.Zaten numerikler gayet iyi korele.Bu da bir ek puan."
   ]
  },
  {
   "cell_type": "code",
   "execution_count": 23,
   "id": "f7f4eb36-c4e2-476f-9cb9-43fcacea6bcb",
   "metadata": {},
   "outputs": [
    {
     "name": "stdout",
     "output_type": "stream",
     "text": [
      "   Engine Size(L)  Cylinders  Fuel Consumption City (L/100 km)  \\\n",
      "0             2.0          4                               9.9   \n",
      "1             2.4          4                              11.2   \n",
      "2             1.5          4                               6.0   \n",
      "3             3.5          6                              12.7   \n",
      "4             3.5          6                              12.1   \n",
      "\n",
      "   Fuel Consumption Hwy (L/100 km)  Fuel Consumption Comb (L/100 km)  \\\n",
      "0                              6.7                               8.5   \n",
      "1                              7.7                               9.6   \n",
      "2                              5.8                               5.9   \n",
      "3                              9.1                              11.1   \n",
      "4                              8.7                              10.6   \n",
      "\n",
      "   Fuel Consumption Comb (mpg)  CO2 Emissions(g/km)  Transmission_A4  \\\n",
      "0                           33                  196                0   \n",
      "1                           29                  221                0   \n",
      "2                           48                  136                0   \n",
      "3                           25                  255                0   \n",
      "4                           27                  244                0   \n",
      "\n",
      "   Transmission_A5  Transmission_A6  ...  Transmission_AV6  Transmission_AV7  \\\n",
      "0                0                0  ...                 0                 0   \n",
      "1                0                0  ...                 0                 0   \n",
      "2                0                0  ...                 0                 1   \n",
      "3                0                0  ...                 0                 0   \n",
      "4                0                0  ...                 0                 0   \n",
      "\n",
      "   Transmission_AV8  Transmission_M5  Transmission_M6  Transmission_M7  \\\n",
      "0                 0                0                0                0   \n",
      "1                 0                0                1                0   \n",
      "2                 0                0                0                0   \n",
      "3                 0                0                0                0   \n",
      "4                 0                0                0                0   \n",
      "\n",
      "   Fuel Type_E  Fuel Type_N  Fuel Type_X  Fuel Type_Z  \n",
      "0            0            0            0            1  \n",
      "1            0            0            0            1  \n",
      "2            0            0            0            1  \n",
      "3            0            0            0            1  \n",
      "4            0            0            0            1  \n",
      "\n",
      "[5 rows x 37 columns]\n",
      "(6282, 37)\n"
     ]
    }
   ],
   "source": [
    "df2 = pd.get_dummies(df, drop_first = True)\n",
    "print(df2.head())\n",
    "print(df2.shape)"
   ]
  },
  {
   "cell_type": "markdown",
   "id": "baac595d-0bab-4e55-8c11-0e86fea02098",
   "metadata": {},
   "source": [
    "## Dependent and Independent Variable"
   ]
  },
  {
   "cell_type": "code",
   "execution_count": 24,
   "id": "255ebac5-d631-43db-b771-3b718cf42103",
   "metadata": {},
   "outputs": [],
   "source": [
    "X = df2.drop(columns = \"CO2 Emissions(g/km)\")\n",
    "y = df2[\"CO2 Emissions(g/km)\"]"
   ]
  },
  {
   "cell_type": "code",
   "execution_count": 25,
   "id": "8868b148-248f-4517-8513-39450be2b4ba",
   "metadata": {},
   "outputs": [
    {
     "data": {
      "text/plain": [
       "(      Engine Size(L)  Cylinders  Fuel Consumption City (L/100 km)  \\\n",
       " 0                2.0          4                               9.9   \n",
       " 1                2.4          4                              11.2   \n",
       " 2                1.5          4                               6.0   \n",
       " 3                3.5          6                              12.7   \n",
       " 4                3.5          6                              12.1   \n",
       " ...              ...        ...                               ...   \n",
       " 7380             2.0          4                              10.7   \n",
       " 7381             2.0          4                              11.2   \n",
       " 7382             2.0          4                              11.7   \n",
       " 7383             2.0          4                              11.2   \n",
       " 7384             2.0          4                              12.2   \n",
       " \n",
       "       Fuel Consumption Hwy (L/100 km)  Fuel Consumption Comb (L/100 km)  \\\n",
       " 0                                 6.7                               8.5   \n",
       " 1                                 7.7                               9.6   \n",
       " 2                                 5.8                               5.9   \n",
       " 3                                 9.1                              11.1   \n",
       " 4                                 8.7                              10.6   \n",
       " ...                               ...                               ...   \n",
       " 7380                              7.7                               9.4   \n",
       " 7381                              8.3                               9.9   \n",
       " 7382                              8.6                              10.3   \n",
       " 7383                              8.3                               9.9   \n",
       " 7384                              8.7                              10.7   \n",
       " \n",
       "       Fuel Consumption Comb (mpg)  Transmission_A4  Transmission_A5  \\\n",
       " 0                              33                0                0   \n",
       " 1                              29                0                0   \n",
       " 2                              48                0                0   \n",
       " 3                              25                0                0   \n",
       " 4                              27                0                0   \n",
       " ...                           ...              ...              ...   \n",
       " 7380                           30                0                0   \n",
       " 7381                           29                0                0   \n",
       " 7382                           27                0                0   \n",
       " 7383                           29                0                0   \n",
       " 7384                           26                0                0   \n",
       " \n",
       "       Transmission_A6  Transmission_A7  ...  Transmission_AV6  \\\n",
       " 0                   0                0  ...                 0   \n",
       " 1                   0                0  ...                 0   \n",
       " 2                   0                0  ...                 0   \n",
       " 3                   0                0  ...                 0   \n",
       " 4                   0                0  ...                 0   \n",
       " ...               ...              ...  ...               ...   \n",
       " 7380                0                0  ...                 0   \n",
       " 7381                0                0  ...                 0   \n",
       " 7382                0                0  ...                 0   \n",
       " 7383                0                0  ...                 0   \n",
       " 7384                0                0  ...                 0   \n",
       " \n",
       "       Transmission_AV7  Transmission_AV8  Transmission_M5  Transmission_M6  \\\n",
       " 0                    0                 0                0                0   \n",
       " 1                    0                 0                0                1   \n",
       " 2                    1                 0                0                0   \n",
       " 3                    0                 0                0                0   \n",
       " 4                    0                 0                0                0   \n",
       " ...                ...               ...              ...              ...   \n",
       " 7380                 0                 0                0                0   \n",
       " 7381                 0                 0                0                0   \n",
       " 7382                 0                 0                0                0   \n",
       " 7383                 0                 0                0                0   \n",
       " 7384                 0                 0                0                0   \n",
       " \n",
       "       Transmission_M7  Fuel Type_E  Fuel Type_N  Fuel Type_X  Fuel Type_Z  \n",
       " 0                   0            0            0            0            1  \n",
       " 1                   0            0            0            0            1  \n",
       " 2                   0            0            0            0            1  \n",
       " 3                   0            0            0            0            1  \n",
       " 4                   0            0            0            0            1  \n",
       " ...               ...          ...          ...          ...          ...  \n",
       " 7380                0            0            0            0            1  \n",
       " 7381                0            0            0            0            1  \n",
       " 7382                0            0            0            0            1  \n",
       " 7383                0            0            0            0            1  \n",
       " 7384                0            0            0            0            1  \n",
       " \n",
       " [6282 rows x 36 columns],\n",
       " 0       196\n",
       " 1       221\n",
       " 2       136\n",
       " 3       255\n",
       " 4       244\n",
       "        ... \n",
       " 7380    219\n",
       " 7381    232\n",
       " 7382    240\n",
       " 7383    232\n",
       " 7384    248\n",
       " Name: CO2 Emissions(g/km), Length: 6282, dtype: int64)"
      ]
     },
     "execution_count": 25,
     "metadata": {},
     "output_type": "execute_result"
    }
   ],
   "source": [
    "X, y"
   ]
  },
  {
   "cell_type": "markdown",
   "id": "669afcf1-3143-4d46-8385-8fbb2c942fe8",
   "metadata": {},
   "source": [
    "## Scaling"
   ]
  },
  {
   "cell_type": "code",
   "execution_count": 26,
   "id": "f5628e05-4ef6-4787-a2e9-bb37787f267d",
   "metadata": {},
   "outputs": [],
   "source": [
    "from sklearn.preprocessing import MinMaxScaler#1 ve 0da iy dedik,regresyonda eğer az data ve 0-1li featurelar varsa yine tercih edilirmiş."
   ]
  },
  {
   "cell_type": "code",
   "execution_count": 27,
   "id": "09afe085-a164-4f25-a056-a06699aeb0e8",
   "metadata": {},
   "outputs": [],
   "source": [
    "sc = MinMaxScaler()"
   ]
  },
  {
   "cell_type": "code",
   "execution_count": 28,
   "id": "c69155b3-57f5-46f2-b425-8115dbd2f7e6",
   "metadata": {},
   "outputs": [],
   "source": [
    "X_ = sc.fit_transform(X)"
   ]
  },
  {
   "cell_type": "code",
   "execution_count": 29,
   "id": "2404fb50-bec5-4b5f-8574-b4080e9b6b80",
   "metadata": {},
   "outputs": [
    {
     "data": {
      "text/html": [
       "<div>\n",
       "<style scoped>\n",
       "    .dataframe tbody tr th:only-of-type {\n",
       "        vertical-align: middle;\n",
       "    }\n",
       "\n",
       "    .dataframe tbody tr th {\n",
       "        vertical-align: top;\n",
       "    }\n",
       "\n",
       "    .dataframe thead th {\n",
       "        text-align: right;\n",
       "    }\n",
       "</style>\n",
       "<table border=\"1\" class=\"dataframe\">\n",
       "  <thead>\n",
       "    <tr style=\"text-align: right;\">\n",
       "      <th></th>\n",
       "      <th>Engine Size(L)</th>\n",
       "      <th>Cylinders</th>\n",
       "      <th>Fuel Consumption City (L/100 km)</th>\n",
       "      <th>Fuel Consumption Hwy (L/100 km)</th>\n",
       "      <th>Fuel Consumption Comb (L/100 km)</th>\n",
       "      <th>Fuel Consumption Comb (mpg)</th>\n",
       "      <th>Transmission_A4</th>\n",
       "      <th>Transmission_A5</th>\n",
       "      <th>Transmission_A6</th>\n",
       "      <th>Transmission_A7</th>\n",
       "      <th>...</th>\n",
       "      <th>Transmission_AV6</th>\n",
       "      <th>Transmission_AV7</th>\n",
       "      <th>Transmission_AV8</th>\n",
       "      <th>Transmission_M5</th>\n",
       "      <th>Transmission_M6</th>\n",
       "      <th>Transmission_M7</th>\n",
       "      <th>Fuel Type_E</th>\n",
       "      <th>Fuel Type_N</th>\n",
       "      <th>Fuel Type_X</th>\n",
       "      <th>Fuel Type_Z</th>\n",
       "    </tr>\n",
       "  </thead>\n",
       "  <tbody>\n",
       "    <tr>\n",
       "      <th>mean</th>\n",
       "      <td>3.0</td>\n",
       "      <td>6.0</td>\n",
       "      <td>13.0</td>\n",
       "      <td>9.0</td>\n",
       "      <td>11.0</td>\n",
       "      <td>27.0</td>\n",
       "      <td>0.0</td>\n",
       "      <td>0.0</td>\n",
       "      <td>0.0</td>\n",
       "      <td>0.0</td>\n",
       "      <td>...</td>\n",
       "      <td>0.0</td>\n",
       "      <td>0.0</td>\n",
       "      <td>0.0</td>\n",
       "      <td>0.0</td>\n",
       "      <td>0.0</td>\n",
       "      <td>0.0</td>\n",
       "      <td>0.0</td>\n",
       "      <td>0.0</td>\n",
       "      <td>0.0</td>\n",
       "      <td>0.0</td>\n",
       "    </tr>\n",
       "    <tr>\n",
       "      <th>std</th>\n",
       "      <td>1.0</td>\n",
       "      <td>2.0</td>\n",
       "      <td>4.0</td>\n",
       "      <td>2.0</td>\n",
       "      <td>3.0</td>\n",
       "      <td>7.0</td>\n",
       "      <td>0.0</td>\n",
       "      <td>0.0</td>\n",
       "      <td>0.0</td>\n",
       "      <td>0.0</td>\n",
       "      <td>...</td>\n",
       "      <td>0.0</td>\n",
       "      <td>0.0</td>\n",
       "      <td>0.0</td>\n",
       "      <td>0.0</td>\n",
       "      <td>0.0</td>\n",
       "      <td>0.0</td>\n",
       "      <td>0.0</td>\n",
       "      <td>0.0</td>\n",
       "      <td>0.0</td>\n",
       "      <td>0.0</td>\n",
       "    </tr>\n",
       "    <tr>\n",
       "      <th>max</th>\n",
       "      <td>8.0</td>\n",
       "      <td>16.0</td>\n",
       "      <td>31.0</td>\n",
       "      <td>21.0</td>\n",
       "      <td>26.0</td>\n",
       "      <td>69.0</td>\n",
       "      <td>1.0</td>\n",
       "      <td>1.0</td>\n",
       "      <td>1.0</td>\n",
       "      <td>1.0</td>\n",
       "      <td>...</td>\n",
       "      <td>1.0</td>\n",
       "      <td>1.0</td>\n",
       "      <td>1.0</td>\n",
       "      <td>1.0</td>\n",
       "      <td>1.0</td>\n",
       "      <td>1.0</td>\n",
       "      <td>1.0</td>\n",
       "      <td>1.0</td>\n",
       "      <td>1.0</td>\n",
       "      <td>1.0</td>\n",
       "    </tr>\n",
       "    <tr>\n",
       "      <th>min</th>\n",
       "      <td>1.0</td>\n",
       "      <td>3.0</td>\n",
       "      <td>4.0</td>\n",
       "      <td>4.0</td>\n",
       "      <td>4.0</td>\n",
       "      <td>11.0</td>\n",
       "      <td>0.0</td>\n",
       "      <td>0.0</td>\n",
       "      <td>0.0</td>\n",
       "      <td>0.0</td>\n",
       "      <td>...</td>\n",
       "      <td>0.0</td>\n",
       "      <td>0.0</td>\n",
       "      <td>0.0</td>\n",
       "      <td>0.0</td>\n",
       "      <td>0.0</td>\n",
       "      <td>0.0</td>\n",
       "      <td>0.0</td>\n",
       "      <td>0.0</td>\n",
       "      <td>0.0</td>\n",
       "      <td>0.0</td>\n",
       "    </tr>\n",
       "  </tbody>\n",
       "</table>\n",
       "<p>4 rows × 36 columns</p>\n",
       "</div>"
      ],
      "text/plain": [
       "      Engine Size(L)  Cylinders  Fuel Consumption City (L/100 km)  \\\n",
       "mean             3.0        6.0                              13.0   \n",
       "std              1.0        2.0                               4.0   \n",
       "max              8.0       16.0                              31.0   \n",
       "min              1.0        3.0                               4.0   \n",
       "\n",
       "      Fuel Consumption Hwy (L/100 km)  Fuel Consumption Comb (L/100 km)  \\\n",
       "mean                              9.0                              11.0   \n",
       "std                               2.0                               3.0   \n",
       "max                              21.0                              26.0   \n",
       "min                               4.0                               4.0   \n",
       "\n",
       "      Fuel Consumption Comb (mpg)  Transmission_A4  Transmission_A5  \\\n",
       "mean                         27.0              0.0              0.0   \n",
       "std                           7.0              0.0              0.0   \n",
       "max                          69.0              1.0              1.0   \n",
       "min                          11.0              0.0              0.0   \n",
       "\n",
       "      Transmission_A6  Transmission_A7  ...  Transmission_AV6  \\\n",
       "mean              0.0              0.0  ...               0.0   \n",
       "std               0.0              0.0  ...               0.0   \n",
       "max               1.0              1.0  ...               1.0   \n",
       "min               0.0              0.0  ...               0.0   \n",
       "\n",
       "      Transmission_AV7  Transmission_AV8  Transmission_M5  Transmission_M6  \\\n",
       "mean               0.0               0.0              0.0              0.0   \n",
       "std                0.0               0.0              0.0              0.0   \n",
       "max                1.0               1.0              1.0              1.0   \n",
       "min                0.0               0.0              0.0              0.0   \n",
       "\n",
       "      Transmission_M7  Fuel Type_E  Fuel Type_N  Fuel Type_X  Fuel Type_Z  \n",
       "mean              0.0          0.0          0.0          0.0          0.0  \n",
       "std               0.0          0.0          0.0          0.0          0.0  \n",
       "max               1.0          1.0          1.0          1.0          1.0  \n",
       "min               0.0          0.0          0.0          0.0          0.0  \n",
       "\n",
       "[4 rows x 36 columns]"
      ]
     },
     "execution_count": 29,
     "metadata": {},
     "output_type": "execute_result"
    }
   ],
   "source": [
    "pd.DataFrame(X).agg([\"mean\", \"std\", \"max\", \"min\"]).round()"
   ]
  },
  {
   "cell_type": "code",
   "execution_count": 30,
   "id": "4e39be8a-cd8b-4331-9805-b6bfb3403acf",
   "metadata": {},
   "outputs": [],
   "source": [
    "from sklearn.model_selection import train_test_split"
   ]
  },
  {
   "cell_type": "code",
   "execution_count": 31,
   "id": "5cfba96c-7965-4c12-a81e-f4c4fda0698a",
   "metadata": {},
   "outputs": [],
   "source": [
    "X_train, X_test, y_train, y_test = train_test_split(X, y, test_size = 0.25, random_state = 42)"
   ]
  },
  {
   "cell_type": "code",
   "execution_count": 32,
   "id": "d2dbb951-af6b-4468-9447-d181ce3a5b18",
   "metadata": {},
   "outputs": [
    {
     "name": "stdout",
     "output_type": "stream",
     "text": [
      "X Train features shape: (4711, 36)\n",
      "Y Train features shape: (4711,)\n",
      "X Test features shape: (1571, 36)\n",
      "Y Train features shape: (1571,)\n"
     ]
    }
   ],
   "source": [
    "print(\"X Train features shape: {}\\nY Train features shape: {}\\nX Test features shape: {}\\nY Train features shape: {}\".format(\n",
    "        X_train.shape, y_train.shape, X_test.shape, y_test.shape))"
   ]
  },
  {
   "cell_type": "markdown",
   "id": "7ec8c76b-f076-4afd-846b-7320836a077b",
   "metadata": {},
   "source": [
    "## Eval Metric"
   ]
  },
  {
   "cell_type": "code",
   "execution_count": 33,
   "id": "4e3686fd-bdf4-4262-8f21-b2fad899a5f9",
   "metadata": {},
   "outputs": [],
   "source": [
    "from sklearn.metrics import mean_absolute_error, mean_squared_error, r2_score"
   ]
  },
  {
   "cell_type": "code",
   "execution_count": 34,
   "id": "653cdfdc-4482-4c19-93f7-534a4a1a3381",
   "metadata": {},
   "outputs": [],
   "source": [
    "def eval_metric(actual, pred):\n",
    "    mae = mean_absolute_error(actual, pred)\n",
    "    mse = mean_squared_error(actual, pred)\n",
    "    rmse = np.sqrt(mean_squared_error(actual, pred))\n",
    "    R2_score = r2_score(actual, pred)\n",
    "    print(\"Model testing performance: \")\n",
    "    print(\"---------------------------\")\n",
    "    print(f\"R2_score \\t: {R2_score}\")\n",
    "    print(f\"MAE \\t\\t: {mae}\")\n",
    "    print(f\"MSE \\t\\t: {mse}\")\n",
    "    print(f\"RMSE \\t\\t: {rmse}\")"
   ]
  },
  {
   "cell_type": "markdown",
   "id": "9c1e10d6-86f7-402e-b4fa-a7166887d369",
   "metadata": {},
   "source": [
    "## Elasticnet Regression"
   ]
  },
  {
   "cell_type": "code",
   "execution_count": 35,
   "id": "6272c596-113a-4a33-b159-2c528ccfe622",
   "metadata": {},
   "outputs": [],
   "source": [
    "from sklearn.linear_model import ElasticNet#cizdiğimiz eda grafikleri de aslında lieere uygundu zaten.\n",
    "elasticnet = ElasticNet(max_iter= 10000)"
   ]
  },
  {
   "cell_type": "code",
   "execution_count": 36,
   "id": "a7226104-bbf6-4308-9888-9ab435690471",
   "metadata": {},
   "outputs": [],
   "source": [
    "from sklearn.model_selection import GridSearchCV"
   ]
  },
  {
   "cell_type": "code",
   "execution_count": 37,
   "id": "ee08e91c-c769-4e0f-afd9-eb635bf9437c",
   "metadata": {},
   "outputs": [],
   "source": [
    "param_grid = {\"alpha\" : [0.001, 0.01, 0.02, 0.1, 1, 5, 10, 50, 100],\n",
    "             \"l1_ratio\": [0.1, 0.3, 0.5, 0.7, 0.9, 0.05, 0.99, 1]}"
   ]
  },
  {
   "cell_type": "code",
   "execution_count": 38,
   "id": "ca29ff3e-f6d0-4acf-a8d2-79dee0473b9c",
   "metadata": {},
   "outputs": [],
   "source": [
    "elastic_grid= GridSearchCV(estimator= elasticnet, param_grid= param_grid, scoring= \"neg_root_mean_squared_error\", verbose = 0, n_jobs = -1)"
   ]
  },
  {
   "cell_type": "code",
   "execution_count": 39,
   "id": "f093eb57-255b-4db7-b88c-eb932e70f03f",
   "metadata": {},
   "outputs": [
    {
     "data": {
      "text/plain": [
       "GridSearchCV(estimator=ElasticNet(max_iter=10000), n_jobs=-1,\n",
       "             param_grid={'alpha': [0.001, 0.01, 0.02, 0.1, 1, 5, 10, 50, 100],\n",
       "                         'l1_ratio': [0.1, 0.3, 0.5, 0.7, 0.9, 0.05, 0.99, 1]},\n",
       "             scoring='neg_root_mean_squared_error')"
      ]
     },
     "execution_count": 39,
     "metadata": {},
     "output_type": "execute_result"
    }
   ],
   "source": [
    "elastic_grid.fit(X_train, y_train)"
   ]
  },
  {
   "cell_type": "code",
   "execution_count": 40,
   "id": "bae2c727-119d-459f-90ad-886c0b2960af",
   "metadata": {},
   "outputs": [
    {
     "data": {
      "text/plain": [
       "{'alpha': 0.001, 'l1_ratio': 1}"
      ]
     },
     "execution_count": 40,
     "metadata": {},
     "output_type": "execute_result"
    }
   ],
   "source": [
    "elastic_grid.best_params_"
   ]
  },
  {
   "cell_type": "code",
   "execution_count": 41,
   "id": "151c9ff0-1c6f-4722-bb3d-f0ccb4b1080d",
   "metadata": {},
   "outputs": [
    {
     "name": "stdout",
     "output_type": "stream",
     "text": [
      "Model testing performance: \n",
      "---------------------------\n",
      "R2_score \t: 0.9894421565188819\n",
      "MAE \t\t: 3.3583823709351073\n",
      "MSE \t\t: 38.36589251952366\n",
      "RMSE \t\t: 6.194020707062874\n",
      "Model testing performance: \n",
      "---------------------------\n",
      "R2_score \t: 0.9931376152448367\n",
      "MAE \t\t: 2.9909878308562057\n",
      "MSE \t\t: 23.83878836305078\n",
      "RMSE \t\t: 4.882498168258825\n",
      "None None\n"
     ]
    }
   ],
   "source": [
    "y_pred = elastic_grid.predict(X_test)\n",
    "y_train_pred = elastic_grid.predict(X_train)\n",
    "print(eval_metric(y_test, y_pred), eval_metric(y_train, y_train_pred))"
   ]
  },
  {
   "cell_type": "code",
   "execution_count": 42,
   "id": "65f1881a-7f78-46ed-9c7a-df9d79af84ad",
   "metadata": {},
   "outputs": [
    {
     "data": {
      "text/plain": [
       "0.9894421565188819"
      ]
     },
     "execution_count": 42,
     "metadata": {},
     "output_type": "execute_result"
    }
   ],
   "source": [
    "elastic_r2 = r2_score(y_test, y_pred)\n",
    "elastic_r2"
   ]
  },
  {
   "cell_type": "markdown",
   "id": "ae82eb86-f421-4a38-808c-53e165782dcf",
   "metadata": {},
   "source": [
    "## KNN"
   ]
  },
  {
   "cell_type": "code",
   "execution_count": 43,
   "id": "1f7d8472-1af8-47ec-bf44-b9e8c44334db",
   "metadata": {},
   "outputs": [],
   "source": [
    "from sklearn.neighbors import KNeighborsRegressor"
   ]
  },
  {
   "cell_type": "code",
   "execution_count": 44,
   "id": "6ba5afa1-539c-4562-b21c-ab71aa07d53f",
   "metadata": {},
   "outputs": [],
   "source": [
    "knn = KNeighborsRegressor()"
   ]
  },
  {
   "cell_type": "code",
   "execution_count": 45,
   "id": "3b95f90e-8c4e-46be-9120-3f79028f22a4",
   "metadata": {},
   "outputs": [],
   "source": [
    "n_neighbors = range(1, 101)"
   ]
  },
  {
   "cell_type": "code",
   "execution_count": 46,
   "id": "06e8b9d9-99e6-4aed-b5ab-6ced54bcab0b",
   "metadata": {},
   "outputs": [],
   "source": [
    "param_grid = {\"n_neighbors\": n_neighbors, \"weights\": [\"uniform\", \"distance\"]}"
   ]
  },
  {
   "cell_type": "code",
   "execution_count": 47,
   "id": "0828c4d5-1aeb-4d2a-a38b-6dbea8b5327b",
   "metadata": {},
   "outputs": [],
   "source": [
    "knn_grid = GridSearchCV(estimator= knn, param_grid= param_grid, scoring= \"neg_root_mean_squared_error\", verbose = 0, n_jobs = -1)"
   ]
  },
  {
   "cell_type": "code",
   "execution_count": 48,
   "id": "a4f3e610-5518-4026-b8af-8bcc418fb75b",
   "metadata": {},
   "outputs": [
    {
     "data": {
      "text/plain": [
       "GridSearchCV(estimator=KNeighborsRegressor(), n_jobs=-1,\n",
       "             param_grid={'n_neighbors': range(1, 101),\n",
       "                         'weights': ['uniform', 'distance']},\n",
       "             scoring='neg_root_mean_squared_error')"
      ]
     },
     "execution_count": 48,
     "metadata": {},
     "output_type": "execute_result"
    }
   ],
   "source": [
    "knn_grid.fit(X_train, y_train)"
   ]
  },
  {
   "cell_type": "code",
   "execution_count": 49,
   "id": "3efa6e1e-c5aa-47ff-b2e5-3086fb909a82",
   "metadata": {},
   "outputs": [
    {
     "data": {
      "text/plain": [
       "{'n_neighbors': 1, 'weights': 'uniform'}"
      ]
     },
     "execution_count": 49,
     "metadata": {},
     "output_type": "execute_result"
    }
   ],
   "source": [
    "knn_grid.best_params_"
   ]
  },
  {
   "cell_type": "code",
   "execution_count": 50,
   "id": "0b2e0191-cd33-4c8a-9a42-a6a6d4c5d694",
   "metadata": {},
   "outputs": [
    {
     "name": "stdout",
     "output_type": "stream",
     "text": [
      "Model testing performance: \n",
      "---------------------------\n",
      "R2_score \t: 0.9934235084004677\n",
      "MAE \t\t: 2.395926161680458\n",
      "MSE \t\t: 23.89815404201146\n",
      "RMSE \t\t: 4.888573824952576\n",
      "Model testing performance: \n",
      "---------------------------\n",
      "R2_score \t: 0.9993040734990852\n",
      "MAE \t\t: 0.43154319677350883\n",
      "MSE \t\t: 2.4175334323922733\n",
      "RMSE \t\t: 1.5548419316420152\n",
      "None None\n"
     ]
    }
   ],
   "source": [
    "y_pred = knn_grid.predict(X_test)\n",
    "y_train_pred = knn_grid.predict(X_train)\n",
    "print(eval_metric(y_test, y_pred), eval_metric(y_train, y_train_pred))"
   ]
  },
  {
   "cell_type": "code",
   "execution_count": 51,
   "id": "83a7ee13-11a8-44ad-b3c3-6d2e2579a467",
   "metadata": {},
   "outputs": [
    {
     "data": {
      "text/plain": [
       "0.9934235084004677"
      ]
     },
     "execution_count": 51,
     "metadata": {},
     "output_type": "execute_result"
    }
   ],
   "source": [
    "knn_r2 = r2_score(y_test, y_pred)\n",
    "knn_r2"
   ]
  },
  {
   "cell_type": "markdown",
   "id": "1a328f09-bae2-4e1c-b7fe-60e77395d44c",
   "metadata": {},
   "source": [
    "## Decision Trees"
   ]
  },
  {
   "cell_type": "code",
   "execution_count": 52,
   "id": "72f9e653-2dab-4553-ba15-a0c729b9e0a7",
   "metadata": {},
   "outputs": [],
   "source": [
    "from sklearn.tree import DecisionTreeRegressor"
   ]
  },
  {
   "cell_type": "code",
   "execution_count": 53,
   "id": "7e980c52-4ee7-4f6c-b8a4-6db768a812bb",
   "metadata": {},
   "outputs": [],
   "source": [
    "dc = DecisionTreeRegressor()"
   ]
  },
  {
   "cell_type": "code",
   "execution_count": 54,
   "id": "53335d4e-1efe-4e9c-9b46-17f610760ac2",
   "metadata": {},
   "outputs": [],
   "source": [
    "param_grid = {\"criterion\": [\"squared_error\", \"friedman_mse\", \"absolute_error\", \"gini\", \"poisson\"], \"max_depth\" : range(1, 20)}"
   ]
  },
  {
   "cell_type": "code",
   "execution_count": 55,
   "id": "4aa43d33-67c3-4e85-ab10-ed5ee1e75800",
   "metadata": {},
   "outputs": [],
   "source": [
    "dc_grid = GridSearchCV(estimator= dc, param_grid= param_grid, scoring= \"neg_root_mean_squared_error\", verbose = 0, n_jobs = -1)"
   ]
  },
  {
   "cell_type": "code",
   "execution_count": 56,
   "id": "a2d96c64-c6cb-42ee-bf13-a781fdeea72f",
   "metadata": {},
   "outputs": [
    {
     "data": {
      "text/plain": [
       "GridSearchCV(estimator=DecisionTreeRegressor(), n_jobs=-1,\n",
       "             param_grid={'criterion': ['squared_error', 'friedman_mse',\n",
       "                                       'absolute_error', 'gini', 'poisson'],\n",
       "                         'max_depth': range(1, 20)},\n",
       "             scoring='neg_root_mean_squared_error')"
      ]
     },
     "execution_count": 56,
     "metadata": {},
     "output_type": "execute_result"
    }
   ],
   "source": [
    "dc_grid.fit(X_train, y_train)"
   ]
  },
  {
   "cell_type": "code",
   "execution_count": 57,
   "id": "556eb586-add9-42a6-8af8-536030bf988e",
   "metadata": {},
   "outputs": [
    {
     "data": {
      "text/plain": [
       "{'criterion': 'friedman_mse', 'max_depth': 12}"
      ]
     },
     "execution_count": 57,
     "metadata": {},
     "output_type": "execute_result"
    }
   ],
   "source": [
    "dc_grid.best_params_"
   ]
  },
  {
   "cell_type": "code",
   "execution_count": 58,
   "id": "cea7842a-90e1-47cc-b586-29bac46ba5af",
   "metadata": {},
   "outputs": [
    {
     "name": "stdout",
     "output_type": "stream",
     "text": [
      "Model testing performance: \n",
      "---------------------------\n",
      "R2_score \t: 0.9918034234876845\n",
      "MAE \t\t: 2.5198391086751375\n",
      "MSE \t\t: 29.785341491560708\n",
      "RMSE \t\t: 5.4575948449441265\n",
      "Model testing performance: \n",
      "---------------------------\n",
      "R2_score \t: 0.9990758279195747\n",
      "MAE \t\t: 1.141262786788367\n",
      "MSE \t\t: 3.2104207826180295\n",
      "RMSE \t\t: 1.7917647118464046\n",
      "None None\n"
     ]
    }
   ],
   "source": [
    "y_pred = dc_grid.predict(X_test)\n",
    "y_train_pred = dc_grid.predict(X_train)\n",
    "print(eval_metric(y_test, y_pred), eval_metric(y_train, y_train_pred))"
   ]
  },
  {
   "cell_type": "code",
   "execution_count": 59,
   "id": "be1433a9-f1d7-4353-9fb9-06d9d701deef",
   "metadata": {},
   "outputs": [
    {
     "data": {
      "text/plain": [
       "0.9918034234876845"
      ]
     },
     "execution_count": 59,
     "metadata": {},
     "output_type": "execute_result"
    }
   ],
   "source": [
    "dc_r2 = r2_score(y_test, y_pred)\n",
    "dc_r2"
   ]
  },
  {
   "cell_type": "markdown",
   "id": "54f980b3-56b8-4ecf-bac6-6a4242ec8418",
   "metadata": {},
   "source": [
    "## Random Forest"
   ]
  },
  {
   "cell_type": "code",
   "execution_count": 60,
   "id": "4550989b-f852-4121-97ed-35a6900fdcb0",
   "metadata": {},
   "outputs": [],
   "source": [
    "from sklearn.ensemble import RandomForestRegressor"
   ]
  },
  {
   "cell_type": "code",
   "execution_count": 61,
   "id": "5ac925d8-5ac8-49eb-b5b8-dfd1b10c7986",
   "metadata": {},
   "outputs": [],
   "source": [
    "rf = RandomForestRegressor(random_state= 42)"
   ]
  },
  {
   "cell_type": "code",
   "execution_count": 62,
   "id": "fce370d2-0bc0-44df-ad30-9e221d5fd364",
   "metadata": {},
   "outputs": [],
   "source": [
    "param_grid = {\"n_estimators\": range(1, 30),\n",
    "              \"max_depth\": [None, 4, 5, 6, 7, 8],\n",
    "              \"min_samples_leaf\": [1, 2, 3, 4],\n",
    "              \"min_samples_split\": [2, 3, 5, 6],\n",
    "              \"max_features\": [\"auto\", X.shape[1]/3, 2, 4]}"
   ]
  },
  {
   "cell_type": "code",
   "execution_count": 63,
   "id": "0b6c05d7-c92b-4a03-859f-c2cc69bd0d4f",
   "metadata": {},
   "outputs": [],
   "source": [
    "rf_grid = GridSearchCV(estimator= rf, param_grid= param_grid, scoring= \"neg_root_mean_squared_error\", verbose = 0, n_jobs = -1)"
   ]
  },
  {
   "cell_type": "code",
   "execution_count": 64,
   "id": "c0ad8dcc-b92b-4515-ae2d-a5975447754a",
   "metadata": {},
   "outputs": [
    {
     "data": {
      "text/plain": [
       "GridSearchCV(estimator=RandomForestRegressor(random_state=42), n_jobs=-1,\n",
       "             param_grid={'max_depth': [None, 4, 5, 6, 7, 8],\n",
       "                         'max_features': ['auto', 12.0, 2, 4],\n",
       "                         'min_samples_leaf': [1, 2, 3, 4],\n",
       "                         'min_samples_split': [2, 3, 5, 6],\n",
       "                         'n_estimators': range(1, 30)},\n",
       "             scoring='neg_root_mean_squared_error')"
      ]
     },
     "execution_count": 64,
     "metadata": {},
     "output_type": "execute_result"
    }
   ],
   "source": [
    "rf_grid.fit(X_train, y_train)"
   ]
  },
  {
   "cell_type": "code",
   "execution_count": 65,
   "id": "89144fdd-d969-469a-b369-daf2dcd779c5",
   "metadata": {},
   "outputs": [
    {
     "data": {
      "text/plain": [
       "{'max_depth': None,\n",
       " 'max_features': 'auto',\n",
       " 'min_samples_leaf': 1,\n",
       " 'min_samples_split': 2,\n",
       " 'n_estimators': 29}"
      ]
     },
     "execution_count": 65,
     "metadata": {},
     "output_type": "execute_result"
    }
   ],
   "source": [
    "rf_grid.best_params_"
   ]
  },
  {
   "cell_type": "code",
   "execution_count": 66,
   "id": "0892422d-dc19-41b2-a108-fe62e90d69d8",
   "metadata": {},
   "outputs": [
    {
     "name": "stdout",
     "output_type": "stream",
     "text": [
      "Model testing performance: \n",
      "---------------------------\n",
      "R2_score \t: 0.9940578022901891\n",
      "MAE \t\t: 2.4144668820524275\n",
      "MSE \t\t: 21.593208790420448\n",
      "RMSE \t\t: 4.6468493401895925\n",
      "Model testing performance: \n",
      "---------------------------\n",
      "R2_score \t: 0.999004850273582\n",
      "MAE \t\t: 1.0431111553876968\n",
      "MSE \t\t: 3.4569853722901933\n",
      "RMSE \t\t: 1.8592970102407504\n",
      "None None\n"
     ]
    }
   ],
   "source": [
    "y_pred = rf_grid.predict(X_test)\n",
    "y_train_pred = rf_grid.predict(X_train)\n",
    "print(eval_metric(y_test, y_pred), eval_metric(y_train, y_train_pred))"
   ]
  },
  {
   "cell_type": "code",
   "execution_count": 67,
   "id": "580751c9-6b2d-469d-87a9-fc3ecd994e2f",
   "metadata": {},
   "outputs": [
    {
     "data": {
      "text/plain": [
       "0.9940578022901891"
      ]
     },
     "execution_count": 67,
     "metadata": {},
     "output_type": "execute_result"
    }
   ],
   "source": [
    "rf_r2 = r2_score(y_test, y_pred)\n",
    "rf_r2"
   ]
  },
  {
   "cell_type": "markdown",
   "id": "effca222-5f10-4e13-ba80-61522ee238dc",
   "metadata": {},
   "source": [
    "## AdaBoosting"
   ]
  },
  {
   "cell_type": "code",
   "execution_count": 68,
   "id": "98a18a13-ec58-4ee7-a54a-155ccc1bb10e",
   "metadata": {},
   "outputs": [],
   "source": [
    "from sklearn.ensemble import AdaBoostRegressor"
   ]
  },
  {
   "cell_type": "code",
   "execution_count": 69,
   "id": "e8f980a3-ead8-4da6-a601-8cb3b0246561",
   "metadata": {},
   "outputs": [],
   "source": [
    "ada = AdaBoostRegressor(random_state= 42)"
   ]
  },
  {
   "cell_type": "code",
   "execution_count": 70,
   "id": "84e96a40-4f47-4637-a4aa-9b3d032545ce",
   "metadata": {},
   "outputs": [],
   "source": [
    "param_grid = {\"n_estimators\": range(10, 101), \"learning_rate\": [0.01, 0.1, 0.2, 0.5, 1.0]}"
   ]
  },
  {
   "cell_type": "code",
   "execution_count": 71,
   "id": "38b2b516-be52-41c2-a843-9256c07d5a42",
   "metadata": {},
   "outputs": [],
   "source": [
    "ada_grid = GridSearchCV(estimator= ada, param_grid= param_grid, scoring= \"neg_root_mean_squared_error\", verbose = 0, n_jobs = -1)"
   ]
  },
  {
   "cell_type": "code",
   "execution_count": 72,
   "id": "81c56251-4fe5-4139-a735-1674c979706a",
   "metadata": {},
   "outputs": [
    {
     "data": {
      "text/plain": [
       "GridSearchCV(estimator=AdaBoostRegressor(random_state=42), n_jobs=-1,\n",
       "             param_grid={'learning_rate': [0.01, 0.1, 0.2, 0.5, 1.0],\n",
       "                         'n_estimators': range(10, 101)},\n",
       "             scoring='neg_root_mean_squared_error')"
      ]
     },
     "execution_count": 72,
     "metadata": {},
     "output_type": "execute_result"
    }
   ],
   "source": [
    "ada_grid.fit(X_train, y_train)"
   ]
  },
  {
   "cell_type": "code",
   "execution_count": 73,
   "id": "5a2216fd-58f9-416b-8c5a-1b5fb0fd36e4",
   "metadata": {},
   "outputs": [
    {
     "data": {
      "text/plain": [
       "{'learning_rate': 0.2, 'n_estimators': 39}"
      ]
     },
     "execution_count": 73,
     "metadata": {},
     "output_type": "execute_result"
    }
   ],
   "source": [
    "ada_grid.best_params_"
   ]
  },
  {
   "cell_type": "code",
   "execution_count": 74,
   "id": "446b7064-a9c4-43be-a744-baf32de696e2",
   "metadata": {},
   "outputs": [
    {
     "name": "stdout",
     "output_type": "stream",
     "text": [
      "Model testing performance: \n",
      "---------------------------\n",
      "R2_score \t: 0.9541323752008382\n",
      "MAE \t\t: 9.062820304903932\n",
      "MSE \t\t: 166.67725433869714\n",
      "RMSE \t\t: 12.910354539620403\n",
      "Model testing performance: \n",
      "---------------------------\n",
      "R2_score \t: 0.9603077235586783\n",
      "MAE \t\t: 8.357186416963119\n",
      "MSE \t\t: 137.8843960942928\n",
      "RMSE \t\t: 11.742418664580685\n",
      "None None\n"
     ]
    }
   ],
   "source": [
    "y_pred = ada_grid.predict(X_test)\n",
    "y_train_pred = ada_grid.predict(X_train)\n",
    "print(eval_metric(y_test, y_pred), eval_metric(y_train, y_train_pred))"
   ]
  },
  {
   "cell_type": "code",
   "execution_count": 75,
   "id": "ff047bec-979a-497b-b377-5a1ff2de26e6",
   "metadata": {},
   "outputs": [
    {
     "data": {
      "text/plain": [
       "0.9541323752008382"
      ]
     },
     "execution_count": 75,
     "metadata": {},
     "output_type": "execute_result"
    }
   ],
   "source": [
    "ada_r2 = r2_score(y_test, y_pred)\n",
    "ada_r2"
   ]
  },
  {
   "cell_type": "markdown",
   "id": "9530a315-a4c9-448b-ae52-17ec79c88667",
   "metadata": {},
   "source": [
    "## Gradient Boosting"
   ]
  },
  {
   "cell_type": "code",
   "execution_count": 76,
   "id": "23db728f-108d-4cf7-aefa-b6a78dafc24f",
   "metadata": {},
   "outputs": [],
   "source": [
    "from sklearn.ensemble import GradientBoostingRegressor"
   ]
  },
  {
   "cell_type": "code",
   "execution_count": 77,
   "id": "be479b2a-277a-42e3-aebf-516a1a87bf5c",
   "metadata": {},
   "outputs": [],
   "source": [
    "gradient = GradientBoostingRegressor(random_state= 42)"
   ]
  },
  {
   "cell_type": "code",
   "execution_count": 78,
   "id": "0270ec42-0e03-4c0a-b240-e0d8f8c8b67f",
   "metadata": {},
   "outputs": [],
   "source": [
    "param_grid = {\"n_estimators\": range(10, 101),\n",
    "             \"subsample\": [0.5, 1], \"max_features\": [None, 2, 3, 4], \"learning_rate\": [0.001, 0.01, 0.1, 1], \"max_depth\": [3, 4, 5, 6]}"
   ]
  },
  {
   "cell_type": "code",
   "execution_count": 79,
   "id": "243df056-34a6-4cd3-84eb-2e1c2b192233",
   "metadata": {},
   "outputs": [],
   "source": [
    "gradient_grid = GridSearchCV(estimator= gradient, param_grid= param_grid, scoring= \"neg_root_mean_squared_error\", verbose = 0, n_jobs = -1)"
   ]
  },
  {
   "cell_type": "code",
   "execution_count": null,
   "id": "dccc5bd5-209e-45ca-8f26-abc37c700e9d",
   "metadata": {},
   "outputs": [],
   "source": [
    "gradient_grid.fit(X_train, y_train)"
   ]
  },
  {
   "cell_type": "code",
   "execution_count": null,
   "id": "48f2071e-251f-426c-ac70-9831e456f8b2",
   "metadata": {},
   "outputs": [],
   "source": [
    "gradient_grid.best_params_"
   ]
  },
  {
   "cell_type": "code",
   "execution_count": null,
   "id": "d7bfb52d-89d7-4f8f-9111-49736d598c16",
   "metadata": {},
   "outputs": [],
   "source": [
    "y_pred = gradient_grid.predict(X_test)\n",
    "y_train_pred = gradient_grid.predict(X_train)\n",
    "print(eval_metric(y_test, y_pred), eval_metric(y_train, y_train_pred))"
   ]
  },
  {
   "cell_type": "code",
   "execution_count": null,
   "id": "94f3804e-6008-46e8-b210-3d44f776f4b9",
   "metadata": {},
   "outputs": [],
   "source": [
    "gradient_r2 = r2_score(y_test, y_pred)\n",
    "gradient_r2"
   ]
  },
  {
   "cell_type": "markdown",
   "id": "78016bc1-8667-488d-82e1-662900accacc",
   "metadata": {},
   "source": [
    "## XGBoosting"
   ]
  },
  {
   "cell_type": "code",
   "execution_count": null,
   "id": "42b9237f-b921-495c-9155-c04bf85e2ae4",
   "metadata": {},
   "outputs": [],
   "source": [
    "from xgboost import XGBRegressor"
   ]
  },
  {
   "cell_type": "code",
   "execution_count": null,
   "id": "96792fd4-1324-4700-a52c-9701a9f0b5c0",
   "metadata": {},
   "outputs": [],
   "source": [
    "xgb = XGBRegressor(random_state = 42)"
   ]
  },
  {
   "cell_type": "code",
   "execution_count": null,
   "id": "dc6d550f-a8ab-4064-a427-600bd101aa5c",
   "metadata": {},
   "outputs": [],
   "source": [
    "param_grid = {\"n_estimators\": [100, 300], \"max_depth\": [3, 5, 6], \"learning_rate\": [0.01, 0.1],\n",
    "             \"subsample\": [0.5, 1], \"colsample_bytree\": [0.5, 1]}"
   ]
  },
  {
   "cell_type": "code",
   "execution_count": null,
   "id": "310e0b40-a962-4c94-9859-a20b593e30d8",
   "metadata": {},
   "outputs": [],
   "source": [
    "xgb_grid = GridSearchCV(estimator= xgb, param_grid= param_grid, scoring= \"neg_root_mean_squared_error\", verbose = 0, n_jobs = -1)"
   ]
  },
  {
   "cell_type": "code",
   "execution_count": null,
   "id": "a1e5b161-dcf9-400a-bd6d-936d111636ca",
   "metadata": {},
   "outputs": [],
   "source": [
    "xgb_grid.fit(X_train, y_train)"
   ]
  },
  {
   "cell_type": "code",
   "execution_count": null,
   "id": "105d7a26-fc93-4371-8705-e662be246acf",
   "metadata": {},
   "outputs": [],
   "source": [
    "y_pred = xgb_grid.predict(X_test)\n",
    "y_train_pred = xgb_grid.predict(X_train)\n",
    "print(eval_metric(y_test, y_pred), eval_metric(y_train, y_train_pred))"
   ]
  },
  {
   "cell_type": "code",
   "execution_count": null,
   "id": "c8178520-27bd-4e14-9c6b-9d68deb24937",
   "metadata": {},
   "outputs": [],
   "source": [
    "xgb_r2 = r2_score(y_test, y_pred)\n",
    "xgb_r2"
   ]
  },
  {
   "cell_type": "code",
   "execution_count": null,
   "id": "134f39a6-ee6b-4377-a48a-d6648893f97a",
   "metadata": {},
   "outputs": [],
   "source": [
    "compare = pd.DataFrame({\"Model\": [\"Logistic Regression\", \"KNN\", \"Decision Tree\", \"Random Forest\", \"AdaBoost\",\n",
    "                                 \"GradientBoost\", \"XGBoost\"],\n",
    "                        \"R2\": [elastic_r2, knn_r2, dc_r2, rf_r2, ada_r2, gradient_r2, xgb_r2]})\n",
    "                        \n",
    "def labels(ax):\n",
    "    for p in ax.patches:\n",
    "        width = p.get_width()                        # get bar length\n",
    "        ax.text(width,                               # set the text at 1 unit right of the bar\n",
    "                p.get_y() + p.get_height() / 2,      # get Y coordinate + X coordinate / 2\n",
    "                '{:1.3f}'.format(width),             # set variable to display, 2 decimals\n",
    "                ha = 'left',                         # horizontal alignment\n",
    "                va = 'center')                       # vertical alignment\n",
    "plt.figure(figsize=(14,10))\n",
    "plt.subplot(311)\n",
    "compare = compare.sort_values(by=\"R2\", ascending=False)\n",
    "ax=sns.barplot(x=\"R2\", y=\"Model\", data=compare, palette=\"Blues_d\")\n",
    "labels(ax)\n"
   ]
  },
  {
   "cell_type": "code",
   "execution_count": null,
   "id": "c727210f-1bca-4277-b648-1652551c4db6",
   "metadata": {},
   "outputs": [],
   "source": [
    "#lojistik regresyon yapmadık,binary classification değil çünkü. elesticnet ridge ve lasso niyetine yaoılmış.SVM de yapılmadı,çünkü classifier,regresyonda kullanılmıyor.SVR versiyonu varmış ama kötüymüş.\n",
    "#"
   ]
  },
  {
   "cell_type": "code",
   "execution_count": null,
   "id": "3cfaed5b",
   "metadata": {},
   "outputs": [],
   "source": []
  },
  {
   "cell_type": "code",
   "execution_count": null,
   "id": "bcf26e9c",
   "metadata": {},
   "outputs": [],
   "source": []
  },
  {
   "cell_type": "code",
   "execution_count": null,
   "id": "365647ab",
   "metadata": {},
   "outputs": [],
   "source": []
  },
  {
   "cell_type": "code",
   "execution_count": null,
   "id": "ecc15794",
   "metadata": {},
   "outputs": [],
   "source": []
  }
 ],
 "metadata": {
  "kernelspec": {
   "display_name": "Python 3 (ipykernel)",
   "language": "python",
   "name": "python3"
  },
  "language_info": {
   "codemirror_mode": {
    "name": "ipython",
    "version": 3
   },
   "file_extension": ".py",
   "mimetype": "text/x-python",
   "name": "python",
   "nbconvert_exporter": "python",
   "pygments_lexer": "ipython3",
   "version": "3.9.7"
  }
 },
 "nbformat": 4,
 "nbformat_minor": 5
}
